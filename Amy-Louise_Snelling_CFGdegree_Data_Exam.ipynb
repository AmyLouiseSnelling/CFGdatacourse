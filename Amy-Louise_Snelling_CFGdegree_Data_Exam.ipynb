{
 "cells": [
  {
   "cell_type": "markdown",
   "metadata": {
    "id": "l7p-vJ3P2-Qq"
   },
   "source": [
    "1. PANDAS (25 points)"
   ]
  },
  {
   "cell_type": "code",
   "execution_count": 50,
   "metadata": {
    "id": "IlNehLzE2r2E"
   },
   "outputs": [],
   "source": [
    "# 1 (2 marks). Load the netflix_titles.csv dataset as a Pandas dataframe:\n",
    "import pandas as pd\n",
    "\n",
    "df = pd.read_csv('netflix_titles.csv')\n",
    "\n"
   ]
  },
  {
   "cell_type": "code",
   "execution_count": 51,
   "metadata": {
    "id": "PnUVU19y47mA"
   },
   "outputs": [
    {
     "name": "stdout",
     "output_type": "stream",
     "text": [
      "  show_id     type                             title  \\\n",
      "0      s1    Movie              Dick Johnson Is Dead   \n",
      "1      s2  TV Show                     Blood & Water   \n",
      "2      s3  TV Show                         Ganglands   \n",
      "3      s4  TV Show             Jailbirds New Orleans   \n",
      "4      s5  TV Show                      Kota Factory   \n",
      "5      s6  TV Show                     Midnight Mass   \n",
      "6      s7    Movie  My Little Pony: A New Generation   \n",
      "7      s8    Movie                           Sankofa   \n",
      "8      s9  TV Show     The Great British Baking Show   \n",
      "9     s10    Movie                      The Starling   \n",
      "\n",
      "                        director  \\\n",
      "0                Kirsten Johnson   \n",
      "1                            NaN   \n",
      "2                Julien Leclercq   \n",
      "3                            NaN   \n",
      "4                            NaN   \n",
      "5                  Mike Flanagan   \n",
      "6  Robert Cullen, José Luis Ucha   \n",
      "7                   Haile Gerima   \n",
      "8                Andy Devonshire   \n",
      "9                 Theodore Melfi   \n",
      "\n",
      "                                                cast  \\\n",
      "0                                                NaN   \n",
      "1  Ama Qamata, Khosi Ngema, Gail Mabalane, Thaban...   \n",
      "2  Sami Bouajila, Tracy Gotoas, Samuel Jouy, Nabi...   \n",
      "3                                                NaN   \n",
      "4  Mayur More, Jitendra Kumar, Ranjan Raj, Alam K...   \n",
      "5  Kate Siegel, Zach Gilford, Hamish Linklater, H...   \n",
      "6  Vanessa Hudgens, Kimiko Glenn, James Marsden, ...   \n",
      "7  Kofi Ghanaba, Oyafunmike Ogunlano, Alexandra D...   \n",
      "8  Mel Giedroyc, Sue Perkins, Mary Berry, Paul Ho...   \n",
      "9  Melissa McCarthy, Chris O'Dowd, Kevin Kline, T...   \n",
      "\n",
      "                                             country          date_added  \\\n",
      "0                                      United States  September 25, 2021   \n",
      "1                                       South Africa  September 24, 2021   \n",
      "2                                                NaN  September 24, 2021   \n",
      "3                                                NaN  September 24, 2021   \n",
      "4                                              India  September 24, 2021   \n",
      "5                                                NaN  September 24, 2021   \n",
      "6                                                NaN  September 24, 2021   \n",
      "7  United States, Ghana, Burkina Faso, United Kin...  September 24, 2021   \n",
      "8                                     United Kingdom  September 24, 2021   \n",
      "9                                      United States  September 24, 2021   \n",
      "\n",
      "   release_year rating   duration  \\\n",
      "0          2020  PG-13     90 min   \n",
      "1          2021  TV-MA  2 Seasons   \n",
      "2          2021  TV-MA   1 Season   \n",
      "3          2021  TV-MA   1 Season   \n",
      "4          2021  TV-MA  2 Seasons   \n",
      "5          2021  TV-MA   1 Season   \n",
      "6          2021     PG     91 min   \n",
      "7          1993  TV-MA    125 min   \n",
      "8          2021  TV-14  9 Seasons   \n",
      "9          2021  PG-13    104 min   \n",
      "\n",
      "                                           listed_in  \\\n",
      "0                                      Documentaries   \n",
      "1    International TV Shows, TV Dramas, TV Mysteries   \n",
      "2  Crime TV Shows, International TV Shows, TV Act...   \n",
      "3                             Docuseries, Reality TV   \n",
      "4  International TV Shows, Romantic TV Shows, TV ...   \n",
      "5                 TV Dramas, TV Horror, TV Mysteries   \n",
      "6                           Children & Family Movies   \n",
      "7   Dramas, Independent Movies, International Movies   \n",
      "8                       British TV Shows, Reality TV   \n",
      "9                                   Comedies, Dramas   \n",
      "\n",
      "                                         description  \n",
      "0  As her father nears the end of his life, filmm...  \n",
      "1  After crossing paths at a party, a Cape Town t...  \n",
      "2  To protect his family from a powerful drug lor...  \n",
      "3  Feuds, flirtations and toilet talk go down amo...  \n",
      "4  In a city of coaching centers known to train I...  \n",
      "5  The arrival of a charismatic young priest brin...  \n",
      "6  Equestria's divided. But a bright-eyed hero be...  \n",
      "7  On a photo shoot in Ghana, an American model s...  \n",
      "8  A talented batch of amateur bakers face off in...  \n",
      "9  A woman adjusting to life after a loss contend...  \n"
     ]
    }
   ],
   "source": [
    "# 2 (2 marks). Show the first 10 rows of the dataset\n",
    "print(df.head(10))"
   ]
  },
  {
   "cell_type": "code",
   "execution_count": 52,
   "metadata": {
    "id": "E7ocCcU95pTi"
   },
   "outputs": [
    {
     "name": "stdout",
     "output_type": "stream",
     "text": [
      "     show_id     type        title         director  \\\n",
      "8802   s8803    Movie       Zodiac    David Fincher   \n",
      "8803   s8804  TV Show  Zombie Dumb              NaN   \n",
      "8804   s8805    Movie   Zombieland  Ruben Fleischer   \n",
      "8805   s8806    Movie         Zoom     Peter Hewitt   \n",
      "8806   s8807    Movie       Zubaan      Mozez Singh   \n",
      "\n",
      "                                                   cast        country  \\\n",
      "8802  Mark Ruffalo, Jake Gyllenhaal, Robert Downey J...  United States   \n",
      "8803                                                NaN            NaN   \n",
      "8804  Jesse Eisenberg, Woody Harrelson, Emma Stone, ...  United States   \n",
      "8805  Tim Allen, Courteney Cox, Chevy Chase, Kate Ma...  United States   \n",
      "8806  Vicky Kaushal, Sarah-Jane Dias, Raaghav Chanan...          India   \n",
      "\n",
      "             date_added  release_year rating   duration  \\\n",
      "8802  November 20, 2019          2007      R    158 min   \n",
      "8803       July 1, 2019          2018  TV-Y7  2 Seasons   \n",
      "8804   November 1, 2019          2009      R     88 min   \n",
      "8805   January 11, 2020          2006     PG     88 min   \n",
      "8806      March 2, 2019          2015  TV-14    111 min   \n",
      "\n",
      "                                           listed_in  \\\n",
      "8802                  Cult Movies, Dramas, Thrillers   \n",
      "8803          Kids' TV, Korean TV Shows, TV Comedies   \n",
      "8804                         Comedies, Horror Movies   \n",
      "8805              Children & Family Movies, Comedies   \n",
      "8806  Dramas, International Movies, Music & Musicals   \n",
      "\n",
      "                                            description  \n",
      "8802  A political cartoonist, a crime reporter and a...  \n",
      "8803  While living alone in a spooky town, a young g...  \n",
      "8804  Looking to survive in a world taken over by zo...  \n",
      "8805  Dragged from civilian life, a former superhero...  \n",
      "8806  A scrappy but poor boy worms his way into a ty...  \n"
     ]
    }
   ],
   "source": [
    "# 3 (1 mark). Show the last 5 rows\n",
    "print(df.tail(5))"
   ]
  },
  {
   "cell_type": "code",
   "execution_count": 53,
   "metadata": {
    "id": "eu2P4L0_5ycI"
   },
   "outputs": [
    {
     "name": "stdout",
     "output_type": "stream",
     "text": [
      "Number of rows with no missing values: 5332\n"
     ]
    }
   ],
   "source": [
    "# 4 (4 marks). Count the number of rows which have no missing value in any of the columns, and show the count of non-missing values dataframe.\n",
    "\n",
    "complete_values_df = df.dropna()\n",
    "\n",
    "count_complete_values = complete_values_df.shape[0]\n",
    "\n",
    "print(\"Number of rows with no missing values:\",count_complete_values)\n",
    "\n"
   ]
  },
  {
   "cell_type": "code",
   "execution_count": 54,
   "metadata": {
    "id": "S66_Tlas6yeC"
   },
   "outputs": [
    {
     "name": "stdout",
     "output_type": "stream",
     "text": [
      "     show_id   type                             title  \\\n",
      "0         s1  Movie              Dick Johnson Is Dead   \n",
      "6         s7  Movie  My Little Pony: A New Generation   \n",
      "7         s8  Movie                           Sankofa   \n",
      "9        s10  Movie                      The Starling   \n",
      "12       s13  Movie                      Je Suis Karl   \n",
      "...      ...    ...                               ...   \n",
      "8801   s8802  Movie                           Zinzana   \n",
      "8802   s8803  Movie                            Zodiac   \n",
      "8804   s8805  Movie                        Zombieland   \n",
      "8805   s8806  Movie                              Zoom   \n",
      "8806   s8807  Movie                            Zubaan   \n",
      "\n",
      "                           director  \\\n",
      "0                   Kirsten Johnson   \n",
      "6     Robert Cullen, José Luis Ucha   \n",
      "7                      Haile Gerima   \n",
      "9                    Theodore Melfi   \n",
      "12              Christian Schwochow   \n",
      "...                             ...   \n",
      "8801                Majid Al Ansari   \n",
      "8802                  David Fincher   \n",
      "8804                Ruben Fleischer   \n",
      "8805                   Peter Hewitt   \n",
      "8806                    Mozez Singh   \n",
      "\n",
      "                                                   cast  \\\n",
      "0                                                   NaN   \n",
      "6     Vanessa Hudgens, Kimiko Glenn, James Marsden, ...   \n",
      "7     Kofi Ghanaba, Oyafunmike Ogunlano, Alexandra D...   \n",
      "9     Melissa McCarthy, Chris O'Dowd, Kevin Kline, T...   \n",
      "12    Luna Wedler, Jannis Niewöhner, Milan Peschel, ...   \n",
      "...                                                 ...   \n",
      "8801  Ali Suliman, Saleh Bakri, Yasa, Ali Al-Jabri, ...   \n",
      "8802  Mark Ruffalo, Jake Gyllenhaal, Robert Downey J...   \n",
      "8804  Jesse Eisenberg, Woody Harrelson, Emma Stone, ...   \n",
      "8805  Tim Allen, Courteney Cox, Chevy Chase, Kate Ma...   \n",
      "8806  Vicky Kaushal, Sarah-Jane Dias, Raaghav Chanan...   \n",
      "\n",
      "                                                country          date_added  \\\n",
      "0                                         United States  September 25, 2021   \n",
      "6                                                   NaN  September 24, 2021   \n",
      "7     United States, Ghana, Burkina Faso, United Kin...  September 24, 2021   \n",
      "9                                         United States  September 24, 2021   \n",
      "12                              Germany, Czech Republic  September 23, 2021   \n",
      "...                                                 ...                 ...   \n",
      "8801                       United Arab Emirates, Jordan       March 9, 2016   \n",
      "8802                                      United States   November 20, 2019   \n",
      "8804                                      United States    November 1, 2019   \n",
      "8805                                      United States    January 11, 2020   \n",
      "8806                                              India       March 2, 2019   \n",
      "\n",
      "      release_year rating duration  \\\n",
      "0             2020  PG-13   90 min   \n",
      "6             2021     PG   91 min   \n",
      "7             1993  TV-MA  125 min   \n",
      "9             2021  PG-13  104 min   \n",
      "12            2021  TV-MA  127 min   \n",
      "...            ...    ...      ...   \n",
      "8801          2015  TV-MA   96 min   \n",
      "8802          2007      R  158 min   \n",
      "8804          2009      R   88 min   \n",
      "8805          2006     PG   88 min   \n",
      "8806          2015  TV-14  111 min   \n",
      "\n",
      "                                             listed_in  \\\n",
      "0                                        Documentaries   \n",
      "6                             Children & Family Movies   \n",
      "7     Dramas, Independent Movies, International Movies   \n",
      "9                                     Comedies, Dramas   \n",
      "12                        Dramas, International Movies   \n",
      "...                                                ...   \n",
      "8801           Dramas, International Movies, Thrillers   \n",
      "8802                    Cult Movies, Dramas, Thrillers   \n",
      "8804                           Comedies, Horror Movies   \n",
      "8805                Children & Family Movies, Comedies   \n",
      "8806    Dramas, International Movies, Music & Musicals   \n",
      "\n",
      "                                            description  \n",
      "0     As her father nears the end of his life, filmm...  \n",
      "6     Equestria's divided. But a bright-eyed hero be...  \n",
      "7     On a photo shoot in Ghana, an American model s...  \n",
      "9     A woman adjusting to life after a loss contend...  \n",
      "12    After most of her family is murdered in a terr...  \n",
      "...                                                 ...  \n",
      "8801  Recovering alcoholic Talal wakes up inside a s...  \n",
      "8802  A political cartoonist, a crime reporter and a...  \n",
      "8804  Looking to survive in a world taken over by zo...  \n",
      "8805  Dragged from civilian life, a former superhero...  \n",
      "8806  A scrappy but poor boy worms his way into a ty...  \n",
      "\n",
      "[6131 rows x 12 columns]\n"
     ]
    }
   ],
   "source": [
    "# 5 (3 marks). Drop everything that is not a 'Movie' and show the resulting data frame.\n",
    "movies_df = df[df['type'] == 'Movie']\n",
    "\n",
    "print(movies_df)"
   ]
  },
  {
   "cell_type": "code",
   "execution_count": 56,
   "metadata": {
    "id": "IrdOdxeI6pCM"
   },
   "outputs": [
    {
     "name": "stdout",
     "output_type": "stream",
     "text": [
      "The average duration of movies is: 99.57718668407311 minutes\n",
      "  show_id     type                  title         director  \\\n",
      "0      s1    Movie   Dick Johnson Is Dead  Kirsten Johnson   \n",
      "1      s2  TV Show          Blood & Water              NaN   \n",
      "2      s3  TV Show              Ganglands  Julien Leclercq   \n",
      "3      s4  TV Show  Jailbirds New Orleans              NaN   \n",
      "4      s5  TV Show           Kota Factory              NaN   \n",
      "\n",
      "                                                cast        country  \\\n",
      "0                                                NaN  United States   \n",
      "1  Ama Qamata, Khosi Ngema, Gail Mabalane, Thaban...   South Africa   \n",
      "2  Sami Bouajila, Tracy Gotoas, Samuel Jouy, Nabi...            NaN   \n",
      "3                                                NaN            NaN   \n",
      "4  Mayur More, Jitendra Kumar, Ranjan Raj, Alam K...          India   \n",
      "\n",
      "           date_added  release_year rating  duration  \\\n",
      "0  September 25, 2021          2020  PG-13      90.0   \n",
      "1  September 24, 2021          2021  TV-MA       NaN   \n",
      "2  September 24, 2021          2021  TV-MA       NaN   \n",
      "3  September 24, 2021          2021  TV-MA       NaN   \n",
      "4  September 24, 2021          2021  TV-MA       NaN   \n",
      "\n",
      "                                           listed_in  \\\n",
      "0                                      Documentaries   \n",
      "1    International TV Shows, TV Dramas, TV Mysteries   \n",
      "2  Crime TV Shows, International TV Shows, TV Act...   \n",
      "3                             Docuseries, Reality TV   \n",
      "4  International TV Shows, Romantic TV Shows, TV ...   \n",
      "\n",
      "                                         description  \n",
      "0  As her father nears the end of his life, filmm...  \n",
      "1  After crossing paths at a party, a Cape Town t...  \n",
      "2  To protect his family from a powerful drug lor...  \n",
      "3  Feuds, flirtations and toilet talk go down amo...  \n",
      "4  In a city of coaching centers known to train I...  \n"
     ]
    }
   ],
   "source": [
    "# 6 (7 marks). For every movie where the duration is missing, replace it with the average\n",
    "  # duration of the movies in the dataset.\n",
    "    \n",
    "full_df = pd.read_csv('netflix_titles.csv')    \n",
    "\n",
    "if df['duration'].dtype == 'O' and df['duration'].str.contains(' min').any():\n",
    " df['duration'] = pd.to_numeric(df['duration'].str.replace(' min', ''), errors='coerce')\n",
    "\n",
    "average_duration = df[df['type'] == 'Movie']['duration'].dropna().mean()  \n",
    "\n",
    "df.loc[(df['type'] == 'Movie') & (df['duration'].isna()), 'duration'] = average_duration\n",
    "\n",
    "print(f\"The average duration of movies is: {average_duration} minutes\")\n",
    "print(df.head())\n"
   ]
  },
  {
   "cell_type": "code",
   "execution_count": 31,
   "metadata": {
    "id": "a_fGuLdj54ao"
   },
   "outputs": [
    {
     "name": "stdout",
     "output_type": "stream",
     "text": [
      "Number of duplicate rows: 0\n",
      "No duplicates were found.\n",
      "     show_id     type                  title         director  \\\n",
      "0         s1    Movie   Dick Johnson Is Dead  Kirsten Johnson   \n",
      "1         s2  TV Show          Blood & Water              NaN   \n",
      "2         s3  TV Show              Ganglands  Julien Leclercq   \n",
      "3         s4  TV Show  Jailbirds New Orleans              NaN   \n",
      "4         s5  TV Show           Kota Factory              NaN   \n",
      "...      ...      ...                    ...              ...   \n",
      "8802   s8803    Movie                 Zodiac    David Fincher   \n",
      "8803   s8804  TV Show            Zombie Dumb              NaN   \n",
      "8804   s8805    Movie             Zombieland  Ruben Fleischer   \n",
      "8805   s8806    Movie                   Zoom     Peter Hewitt   \n",
      "8806   s8807    Movie                 Zubaan      Mozez Singh   \n",
      "\n",
      "                                                   cast        country  \\\n",
      "0                                                   NaN  United States   \n",
      "1     Ama Qamata, Khosi Ngema, Gail Mabalane, Thaban...   South Africa   \n",
      "2     Sami Bouajila, Tracy Gotoas, Samuel Jouy, Nabi...            NaN   \n",
      "3                                                   NaN            NaN   \n",
      "4     Mayur More, Jitendra Kumar, Ranjan Raj, Alam K...          India   \n",
      "...                                                 ...            ...   \n",
      "8802  Mark Ruffalo, Jake Gyllenhaal, Robert Downey J...  United States   \n",
      "8803                                                NaN            NaN   \n",
      "8804  Jesse Eisenberg, Woody Harrelson, Emma Stone, ...  United States   \n",
      "8805  Tim Allen, Courteney Cox, Chevy Chase, Kate Ma...  United States   \n",
      "8806  Vicky Kaushal, Sarah-Jane Dias, Raaghav Chanan...          India   \n",
      "\n",
      "              date_added  release_year rating  duration  \\\n",
      "0     September 25, 2021          2020  PG-13      90.0   \n",
      "1     September 24, 2021          2021  TV-MA       NaN   \n",
      "2     September 24, 2021          2021  TV-MA       NaN   \n",
      "3     September 24, 2021          2021  TV-MA       NaN   \n",
      "4     September 24, 2021          2021  TV-MA       NaN   \n",
      "...                  ...           ...    ...       ...   \n",
      "8802   November 20, 2019          2007      R     158.0   \n",
      "8803        July 1, 2019          2018  TV-Y7       NaN   \n",
      "8804    November 1, 2019          2009      R      88.0   \n",
      "8805    January 11, 2020          2006     PG      88.0   \n",
      "8806       March 2, 2019          2015  TV-14     111.0   \n",
      "\n",
      "                                              listed_in  \\\n",
      "0                                         Documentaries   \n",
      "1       International TV Shows, TV Dramas, TV Mysteries   \n",
      "2     Crime TV Shows, International TV Shows, TV Act...   \n",
      "3                                Docuseries, Reality TV   \n",
      "4     International TV Shows, Romantic TV Shows, TV ...   \n",
      "...                                                 ...   \n",
      "8802                     Cult Movies, Dramas, Thrillers   \n",
      "8803             Kids' TV, Korean TV Shows, TV Comedies   \n",
      "8804                            Comedies, Horror Movies   \n",
      "8805                 Children & Family Movies, Comedies   \n",
      "8806     Dramas, International Movies, Music & Musicals   \n",
      "\n",
      "                                            description  \n",
      "0     As her father nears the end of his life, filmm...  \n",
      "1     After crossing paths at a party, a Cape Town t...  \n",
      "2     To protect his family from a powerful drug lor...  \n",
      "3     Feuds, flirtations and toilet talk go down amo...  \n",
      "4     In a city of coaching centers known to train I...  \n",
      "...                                                 ...  \n",
      "8802  A political cartoonist, a crime reporter and a...  \n",
      "8803  While living alone in a spooky town, a young g...  \n",
      "8804  Looking to survive in a world taken over by zo...  \n",
      "8805  Dragged from civilian life, a former superhero...  \n",
      "8806  A scrappy but poor boy worms his way into a ty...  \n",
      "\n",
      "[8807 rows x 12 columns]\n"
     ]
    }
   ],
   "source": [
    "# 7 (3 marks). Are there any duplicates in the data? If yes, please remove them.\n",
    "\n",
    "duplicates = df.duplicated().sum()\n",
    "print(f\"Number of duplicate rows: {duplicates}\")\n",
    "\n",
    "if duplicates > 0: \n",
    "    df = df.drop_duplicates()\n",
    "    print(\"Duplicates have been removed.\")\n",
    "else:\n",
    "    print(\"No duplicates were found.\")\n",
    "        \n",
    "    print(df)"
   ]
  },
  {
   "cell_type": "code",
   "execution_count": 57,
   "metadata": {
    "id": "3QGZWzyo7uZd"
   },
   "outputs": [
    {
     "name": "stdout",
     "output_type": "stream",
     "text": [
      "  Show_id     Type                  Title         Director  \\\n",
      "0      s1    Movie   Dick Johnson Is Dead  Kirsten Johnson   \n",
      "1      s2  TV Show          Blood & Water              NaN   \n",
      "2      s3  TV Show              Ganglands  Julien Leclercq   \n",
      "3      s4  TV Show  Jailbirds New Orleans              NaN   \n",
      "4      s5  TV Show           Kota Factory              NaN   \n",
      "\n",
      "                                                Cast        Country  \\\n",
      "0                                                NaN  United States   \n",
      "1  Ama Qamata, Khosi Ngema, Gail Mabalane, Thaban...   South Africa   \n",
      "2  Sami Bouajila, Tracy Gotoas, Samuel Jouy, Nabi...            NaN   \n",
      "3                                                NaN            NaN   \n",
      "4  Mayur More, Jitendra Kumar, Ranjan Raj, Alam K...          India   \n",
      "\n",
      "           Date_added  Release_year Rating  Duration  \\\n",
      "0  September 25, 2021          2020  PG-13      90.0   \n",
      "1  September 24, 2021          2021  TV-MA       NaN   \n",
      "2  September 24, 2021          2021  TV-MA       NaN   \n",
      "3  September 24, 2021          2021  TV-MA       NaN   \n",
      "4  September 24, 2021          2021  TV-MA       NaN   \n",
      "\n",
      "                                           Listed_in  \\\n",
      "0                                      Documentaries   \n",
      "1    International TV Shows, TV Dramas, TV Mysteries   \n",
      "2  Crime TV Shows, International TV Shows, TV Act...   \n",
      "3                             Docuseries, Reality TV   \n",
      "4  International TV Shows, Romantic TV Shows, TV ...   \n",
      "\n",
      "                                         Description  \n",
      "0  As her father nears the end of his life, filmm...  \n",
      "1  After crossing paths at a party, a Cape Town t...  \n",
      "2  To protect his family from a powerful drug lor...  \n",
      "3  Feuds, flirtations and toilet talk go down amo...  \n",
      "4  In a city of coaching centers known to train I...  \n"
     ]
    }
   ],
   "source": [
    "# 8 (2 marks). Rename all columns to start with a capital letter.\n",
    "\n",
    "df.columns = [col.capitalize() for col in df.columns]\n",
    "\n",
    "print(df.head())"
   ]
  },
  {
   "cell_type": "code",
   "execution_count": 58,
   "metadata": {
    "id": "t4XEgBGY7YvQ"
   },
   "outputs": [
    {
     "name": "stdout",
     "output_type": "stream",
     "text": [
      "The cleaned dataset has been saved as a CSV 'clean_netflix_titles.csv'\n"
     ]
    }
   ],
   "source": [
    "# 9 (1 mark). Save the cleaned dataset as a new csv file.\n",
    "\n",
    "df.to_csv('clean_netflix_titles.csv')\n",
    "print(\"The cleaned dataset has been saved as a CSV 'clean_netflix_titles.csv'\")"
   ]
  },
  {
   "cell_type": "markdown",
   "metadata": {
    "id": "JTMhy9u9-kC0"
   },
   "source": [
    "2. MATPLOTLIB (25 points)\n",
    "\n",
    "Use the netflix dataset to solve the exercises in this section."
   ]
  },
  {
   "cell_type": "code",
   "execution_count": 62,
   "metadata": {
    "id": "aDyc4KiP-mUI"
   },
   "outputs": [
    {
     "data": {
      "image/png": "[encoded data removed]",
      "text/plain": [
       "<Figure size 1400x700 with 1 Axes>"
      ]
     },
     "metadata": {},
     "output_type": "display_data"
    }
   ],
   "source": [
    "# 1 (10 marks). Create a visualisation which shows the frequency of movies by year of release.\n",
    "\n",
    "import matplotlib.pyplot as plt\n",
    "\n",
    "movies_only_df = df[df['Type'] == 'Movie']\n",
    "\n",
    "frequency_by_year = movies_only_df['Release_year'].value_counts().sort_index()\n",
    "\n",
    "plt.figure(figsize=(14, 7))  \n",
    "frequency_by_year.plot(kind='bar')\n",
    "plt.xlabel('Year of Release')\n",
    "plt.ylabel('Number of Movies')\n",
    "plt.tight_layout()  \n",
    "plt.show()\n"
   ]
  },
  {
   "cell_type": "code",
   "execution_count": 63,
   "metadata": {
    "id": "FH38L0EZ_PMl"
   },
   "outputs": [
    {
     "data": {
      "image/png": "[encoded data removed]",
      "text/plain": [
       "<Figure size 800x800 with 1 Axes>"
      ]
     },
     "metadata": {},
     "output_type": "display_data"
    }
   ],
   "source": [
    "# 2 (15 marks). Create a pie chart which shows the 5 top most popular genres of the movies\n",
    "  # in the dataset.\n",
    "\n",
    "movies_only_df = df[df['Type'] == 'Movie']\n",
    "\n",
    "count_genres = movies_df['listed_in'].value_counts()\n",
    "\n",
    "top_genres = count_genres.head(5)\n",
    "\n",
    "plt.figure(figsize=(8, 8))\n",
    "top_genres.plot(kind='pie', autopct='%1.1f%%')\n",
    "plt.title('Top 5 Most Popular Genres of Movies')\n",
    "plt.ylabel('')  \n",
    "plt.show()\n"
   ]
  },
  {
   "cell_type": "markdown",
   "metadata": {
    "id": "oKIh4oFe8GNC"
   },
   "source": [
    "3. NUMPY (25 points)"
   ]
  },
  {
   "cell_type": "code",
   "execution_count": 73,
   "metadata": {
    "id": "xQ1F5b_38Mfy"
   },
   "outputs": [
    {
     "name": "stdout",
     "output_type": "stream",
     "text": [
      "[  0  56  82 500 140  43  92  10  25  11  18  26 150 240 364 196]\n"
     ]
    }
   ],
   "source": [
    "# 1 (2 marks). Running the code in this cell throws an error. Why do we get this error\n",
    "# and how do we fix it?\n",
    "\n",
    "# we need to import numpy\n",
    "import numpy as np\n",
    "\n",
    "# use this numpy array for all exercises in this section\n",
    "arr = np.array([0, 56, 82, 500, 140, 43, 92, 10, 25, 11, 18, 26, 150, 240, 364, 196])\n",
    "arr"
   ]
  },
  {
   "cell_type": "code",
   "execution_count": 72,
   "metadata": {
    "id": "zCs7-t1B9RJH"
   },
   "outputs": [
    {
     "name": "stdout",
     "output_type": "stream",
     "text": [
      "Number of odd numbers in array: 3\n"
     ]
    }
   ],
   "source": [
    "# 2 (5 marks). How many odd numbers do we have in the array?\n",
    "\n",
    "count_odd = np.sum(arr % 2 != 0)\n",
    "\n",
    "print(\"Number of odd numbers in array:\", count_odd)\n"
   ]
  },
  {
   "cell_type": "code",
   "execution_count": 74,
   "metadata": {
    "id": "jit5LWmn8nww"
   },
   "outputs": [
    {
     "name": "stdout",
     "output_type": "stream",
     "text": [
      "[  0  56  82 500 140 999  92  10 999 999  18  26 150 240 364 196]\n"
     ]
    }
   ],
   "source": [
    "# 3 (5 marks). Replace all odd numbers in arr with 999\n",
    "\n",
    "arr[arr % 2 != 0] = 999\n",
    "\n",
    "print(arr)"
   ]
  },
  {
   "cell_type": "code",
   "execution_count": 76,
   "metadata": {
    "id": "3viG4_0R9Z7l"
   },
   "outputs": [
    {
     "name": "stdout",
     "output_type": "stream",
     "text": [
      "[[500  82  56   0]\n",
      " [ 10  92 999 140]\n",
      " [ 26  18 999 999]\n",
      " [196 364 240 150]]\n"
     ]
    }
   ],
   "source": [
    "# 4 (8 marks). The above is a 1D array. Convert it into a 4D array and reverse its columns.\n",
    "\n",
    "# Desired output\n",
    "# > array([[500,  82,  56,   0],\n",
    "# >        [ 10,  92, 999, 140],\n",
    "# >        [ 26,  18, 999, 999],\n",
    "# >        [196, 364, 240, 150]])\n",
    "\n",
    "arr_4d = arr.reshape(4, 4)\n",
    "\n",
    "reverse_4d_arr = arr_4d[:, ::-1]\n",
    "\n",
    "print(reverse_4d_arr)\n"
   ]
  },
  {
   "cell_type": "code",
   "execution_count": 78,
   "metadata": {
    "id": "VmuhT2VM90G9"
   },
   "outputs": [
    {
     "name": "stdout",
     "output_type": "stream",
     "text": [
      "Values higher than 100 and lower or equal to 500: [500 140 150 240 364 196]\n"
     ]
    }
   ],
   "source": [
    "# 5 (5 marks). Find all values which are higher than 100 and lower or equal than 500.\n",
    "\n",
    "filtered_values = arr[(arr > 100) & (arr <= 500)]\n",
    "\n",
    "print(\"Values higher than 100 and lower or equal to 500:\", filtered_values)\n"
   ]
  },
  {
   "cell_type": "code",
   "execution_count": null,
   "metadata": {},
   "outputs": [],
   "source": [
    "#Thanks for your attention! <3"
   ]
  }
 ],
 "metadata": {
  "colab": {
   "provenance": []
  },
  "kernelspec": {
   "display_name": "Python 3 (ipykernel)",
   "language": "python",
   "name": "python3"
  },
  "language_info": {
   "codemirror_mode": {
    "name": "ipython",
    "version": 3
   },
   "file_extension": ".py",
   "mimetype": "text/x-python",
   "name": "python",
   "nbconvert_exporter": "python",
   "pygments_lexer": "ipython3",
   "version": "3.11.5"
  }
 },
 "nbformat": 4,
 "nbformat_minor": 1
}
